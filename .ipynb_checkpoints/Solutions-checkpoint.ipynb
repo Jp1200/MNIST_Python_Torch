{
 "cells": [
  {
   "cell_type": "code",
   "execution_count": 1,
   "metadata": {},
   "outputs": [
    {
     "data": {
      "text/plain": [
       "[-1, 11]"
      ]
     },
     "execution_count": 1,
     "metadata": {},
     "output_type": "execute_result"
    }
   ],
   "source": [
    "import tqdm \n",
    "array = [3, 5, -4, 8, 11, 1, -1, 6]\n",
    "def twoNumSum(arr, target):\n",
    "#     Every num in array, x there exists a y such that x+y = target => y = target-x\n",
    "    hashMap = {}\n",
    "    for i in arr:\n",
    "        pot = target - i\n",
    "        if pot in hashMap:\n",
    "            return [i, pot]\n",
    "        else:\n",
    "            hashMap[i] = True\n",
    "        \n",
    "        \n",
    "        \n",
    "    print(hashMap)\n",
    "    \n",
    "twoNumSum(array, 10)"
   ]
  },
  {
   "cell_type": "code",
   "execution_count": 2,
   "metadata": {},
   "outputs": [
    {
     "data": {
      "text/plain": [
       "[-1, 11]"
      ]
     },
     "execution_count": 2,
     "metadata": {},
     "output_type": "execute_result"
    }
   ],
   "source": [
    "def twoNumSumFast(arr,target):\n",
    "    arr.sort()\n",
    "    lefti = 0 \n",
    "    righti = len(arr) - 1\n",
    "    \n",
    "    while lefti < righti:\n",
    "        currentSum = arr[lefti] + arr[righti]\n",
    "        if currentSum == target:\n",
    "            return [arr[lefti], arr[righti]]\n",
    "        \n",
    "        elif currentSum > target:\n",
    "            righti -=1\n",
    "        elif currentSum < target:\n",
    "            lefti +=1\n",
    "    return []\n",
    "twoNumSumFast(array, 10)"
   ]
  },
  {
   "cell_type": "code",
   "execution_count": 23,
   "metadata": {},
   "outputs": [],
   "source": [
    "#   Write a function that takes in a Binary Search Tree (BST) and a target integer\n",
    "#   value and returns the closest value to that target value contained in the BST.\n",
    "bst_test = {\n",
    "  \"nodes\": [\n",
    "    {\"id\": \"10\", \"left\": \"5\", \"right\": \"15\", \"value\": 10},\n",
    "    {\"id\": \"15\", \"left\": \"13\", \"right\": \"22\", \"value\": 15},\n",
    "    {\"id\": \"22\", \"left\": \"null\", \"right\": \"null\", \"value\": 22},\n",
    "    {\"id\": \"13\", \"left\": \"null\", \"right\": \"14\", \"value\": 13},\n",
    "    {\"id\": \"14\", \"left\": \"null\", \"right\": \"null\", \"value\": 14},\n",
    "    {\"id\": \"5\", \"left\": \"2\", \"right\": \"5-2\", \"value\": 5},\n",
    "    {\"id\": \"5-2\", \"left\": \"null\", \"right\": \"null\", \"value\": 5},\n",
    "    {\"id\": \"2\", \"left\": \"1\", \"right\": \"null\", \"value\": 2},\n",
    "    {\"id\": \"1\", \"left\": \"null\", \"right\": \"null\", \"value\": 1}\n",
    "  ],\n",
    "  \"root\": \"10\"\n",
    "}\n",
    "\n",
    "\n",
    "class BST:\n",
    "    def __init__(self, value):\n",
    "        self.value = value\n",
    "        self.left = None\n",
    "        self.right = None\n",
    "def findClosestValueInBst(tree, target):\n",
    "    return findClosest(tree, target, tree.value)\n",
    "\n",
    "def findClosest(tree, target, closest):\n",
    "    if tree is None: \n",
    "        return closest\n",
    "    if abs(target- closest) > abs(target - tree.value):\n",
    "        closest = tree.value\n",
    "    if tree.value > closest:\n",
    "        return findClosest(tree.left, target, closest)\n",
    "    elif tree.value < closest:\n",
    "        return findClosest(tree.right, target, closest)\n",
    "    else:\n",
    "        return closest\n",
    "    \n",
    "\n"
   ]
  },
  {
   "cell_type": "code",
   "execution_count": 29,
   "metadata": {},
   "outputs": [],
   "source": [
    "# Write a function that takes in a non-empty string and that returns a boolean\n",
    "# representing whether the string is a palindrome\n",
    "import tqdm\n",
    "def fetch(url):\n",
    "    import requests\n",
    "    dat = requests.get(url).content\n",
    "    return dat\n",
    "    \n",
    "string_test = 'abcdcba'\n",
    "\n",
    "def is_palindrome(string):\n",
    "    check = \"\"\n",
    "    length = len(string)\n",
    "    cnt = 0\n",
    "    while cnt < length:\n",
    "        check += string[length - cnt - 1]\n",
    "        cnt += 1\n",
    "    return string == check\n",
    "        \n",
    "is_palindrome(string_test)\n",
    "\n",
    "words = fetch(\"https://raw.githubusercontent.com/dwyl/english-words/master/words.txt\")\n"
   ]
  },
  {
   "cell_type": "code",
   "execution_count": 31,
   "metadata": {},
   "outputs": [
    {
     "name": "stderr",
     "output_type": "stream",
     "text": [
      "IOPub data rate exceeded.\n",
      "The notebook server will temporarily stop sending output\n",
      "to the client in order to avoid crashing it.\n",
      "To change this limit, set the config variable\n",
      "`--NotebookApp.iopub_data_rate_limit`.\n",
      "\n",
      "Current values:\n",
      "NotebookApp.iopub_data_rate_limit=1000000.0 (bytes/sec)\n",
      "NotebookApp.rate_limit_window=3.0 (secs)\n",
      "\n"
     ]
    }
   ],
   "source": [
    "print(words)"
   ]
  }
 ],
 "metadata": {
  "kernelspec": {
   "display_name": "Python 3",
   "language": "python",
   "name": "python3"
  },
  "language_info": {
   "codemirror_mode": {
    "name": "ipython",
    "version": 3
   },
   "file_extension": ".py",
   "mimetype": "text/x-python",
   "name": "python",
   "nbconvert_exporter": "python",
   "pygments_lexer": "ipython3",
   "version": "3.8.0"
  }
 },
 "nbformat": 4,
 "nbformat_minor": 4
}

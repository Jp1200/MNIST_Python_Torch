{
 "cells": [
  {
   "cell_type": "code",
   "execution_count": 1,
   "metadata": {},
   "outputs": [
    {
     "data": {
      "text/plain": [
       "[-1, 11]"
      ]
     },
     "execution_count": 1,
     "metadata": {},
     "output_type": "execute_result"
    }
   ],
   "source": [
    "import tqdm \n",
    "array = [3, 5, -4, 8, 11, 1, -1, 6]\n",
    "def twoNumSum(arr, target):\n",
    "#     Every num in array, x there exists a y such that x+y = target => y = target-x\n",
    "    hashMap = {}\n",
    "    for i in arr:\n",
    "        pot = target - i\n",
    "        if pot in hashMap:\n",
    "            return [i, pot]\n",
    "        else:\n",
    "            hashMap[i] = True\n",
    "        \n",
    "        \n",
    "        \n",
    "    print(hashMap)\n",
    "    \n",
    "twoNumSum(array, 10)"
   ]
  },
  {
   "cell_type": "code",
   "execution_count": 2,
   "metadata": {},
   "outputs": [
    {
     "data": {
      "text/plain": [
       "[-1, 11]"
      ]
     },
     "execution_count": 2,
     "metadata": {},
     "output_type": "execute_result"
    }
   ],
   "source": [
    "def twoNumSumFast(arr,target):\n",
    "    arr.sort()\n",
    "    lefti = 0 \n",
    "    righti = len(arr) - 1\n",
    "    \n",
    "    while lefti < righti:\n",
    "        currentSum = arr[lefti] + arr[righti]\n",
    "        if currentSum == target:\n",
    "            return [arr[lefti], arr[righti]]\n",
    "        \n",
    "        elif currentSum > target:\n",
    "            righti -=1\n",
    "        elif currentSum < target:\n",
    "            lefti +=1\n",
    "    return []\n",
    "twoNumSumFast(array, 10)"
   ]
  },
  {
   "cell_type": "code",
   "execution_count": 23,
   "metadata": {},
   "outputs": [],
   "source": [
    "#   Write a function that takes in a Binary Search Tree (BST) and a target integer\n",
    "#   value and returns the closest value to that target value contained in the BST.\n",
    "bst_test = {\n",
    "  \"nodes\": [\n",
    "    {\"id\": \"10\", \"left\": \"5\", \"right\": \"15\", \"value\": 10},\n",
    "    {\"id\": \"15\", \"left\": \"13\", \"right\": \"22\", \"value\": 15},\n",
    "    {\"id\": \"22\", \"left\": \"null\", \"right\": \"null\", \"value\": 22},\n",
    "    {\"id\": \"13\", \"left\": \"null\", \"right\": \"14\", \"value\": 13},\n",
    "    {\"id\": \"14\", \"left\": \"null\", \"right\": \"null\", \"value\": 14},\n",
    "    {\"id\": \"5\", \"left\": \"2\", \"right\": \"5-2\", \"value\": 5},\n",
    "    {\"id\": \"5-2\", \"left\": \"null\", \"right\": \"null\", \"value\": 5},\n",
    "    {\"id\": \"2\", \"left\": \"1\", \"right\": \"null\", \"value\": 2},\n",
    "    {\"id\": \"1\", \"left\": \"null\", \"right\": \"null\", \"value\": 1}\n",
    "  ],\n",
    "  \"root\": \"10\"\n",
    "}\n",
    "\n",
    "\n",
    "class BST:\n",
    "    def __init__(self, value):\n",
    "        self.value = value\n",
    "        self.left = None\n",
    "        self.right = None\n",
    "def findClosestValueInBst(tree, target):\n",
    "    return findClosest(tree, target, tree.value)\n",
    "\n",
    "def findClosest(tree, target, closest):\n",
    "    if tree is None: \n",
    "        return closest\n",
    "    if abs(target- closest) > abs(target - tree.value):\n",
    "        closest = tree.value\n",
    "    if tree.value > closest:\n",
    "        return findClosest(tree.left, target, closest)\n",
    "    elif tree.value < closest:\n",
    "        return findClosest(tree.right, target, closest)\n",
    "    else:\n",
    "        return closest\n",
    "    \n",
    "\n"
   ]
  },
  {
   "cell_type": "code",
   "execution_count": 49,
   "metadata": {},
   "outputs": [],
   "source": [
    "# Write a function that takes in a non-empty string and that returns a boolean\n",
    "# representing whether the string is a palindrome\n",
    "\n",
    "def fetch(url):\n",
    "    import requests, json\n",
    "    dat = requests.get(url).text\n",
    "    return dat\n",
    "    \n",
    "string_test = 'abcdcba'\n",
    "\n",
    "def is_palindrome(string):\n",
    "    string.lower()\n",
    "    lI = 0\n",
    "    rI = len(string) - 1\n",
    "    while lI < rI:\n",
    "        if string[lI] != string[rI]:\n",
    "            return False\n",
    "        lI += 1\n",
    "        rI -= 1\n",
    "    return True\n",
    "        \n",
    "\n",
    "words = fetch(\"https://raw.githubusercontent.com/dwyl/english-words/master/words.txt\").split()\n"
   ]
  },
  {
   "cell_type": "code",
   "execution_count": 46,
   "metadata": {},
   "outputs": [
    {
     "name": "stderr",
     "output_type": "stream",
     "text": [
      "100%|██████████| 466550/466550 [00:00<00:00, 1186609.12it/s]\n"
     ]
    }
   ],
   "source": [
    "from tqdm import trange\n",
    "palindromes = []\n",
    "\n",
    "for i in trange(len(words)):\n",
    "    if is_palindrome(words[i]):\n",
    "        palindromes.append(words[i])"
   ]
  }
 ],
 "metadata": {
  "kernelspec": {
   "display_name": "Python 3",
   "language": "python",
   "name": "python3"
  },
  "language_info": {
   "codemirror_mode": {
    "name": "ipython",
    "version": 3
   },
   "file_extension": ".py",
   "mimetype": "text/x-python",
   "name": "python",
   "nbconvert_exporter": "python",
   "pygments_lexer": "ipython3",
   "version": "3.8.0"
  }
 },
 "nbformat": 4,
 "nbformat_minor": 4
}

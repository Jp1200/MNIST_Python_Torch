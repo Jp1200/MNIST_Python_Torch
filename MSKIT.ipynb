{
 "cells": [
  {
   "cell_type": "code",
   "execution_count": 1,
   "metadata": {},
   "outputs": [
    {
     "name": "stdout",
     "output_type": "stream",
     "text": [
      "Populating the interactive namespace from numpy and matplotlib\n"
     ]
    }
   ],
   "source": [
    "%pylab inline\n",
    "\n",
    "\n",
    "from tqdm import trange"
   ]
  },
  {
   "cell_type": "code",
   "execution_count": 14,
   "metadata": {},
   "outputs": [],
   "source": [
    "def fetch(url):\n",
    "    import requests,  gzip, os, hashlib, numpy\n",
    "    fp = os.path.join(\"/tmp\", hashlib.md5(url.encode('utf-8')).hexdigest())\n",
    "    if os.path.isfile(fp):\n",
    "        with open(fp, \"rb\") as f:\n",
    "            dat = f.read()\n",
    "    else:\n",
    "        with open(fp, \"wb\") as f:\n",
    "            dat = requests.get(url).content\n",
    "            f.write(dat)\n",
    "    return numpy.frombuffer(gzip.decompress(dat), dtype=numpy.uint8).copy()\n",
    "X_train = fetch(\"http://yann.lecun.com/exdb/mnist/train-images-idx3-ubyte.gz\")[0x10:].reshape((-1,28,28))\n",
    "Y_train = fetch(\"http://yann.lecun.com/exdb/mnist/train-labels-idx1-ubyte.gz\")[8:]\n",
    "X_test = fetch(\"http://yann.lecun.com/exdb/mnist/t10k-images-idx3-ubyte.gz\")[0x10:].reshape((-1,28,28))\n",
    "Y_test = fetch(\"http://yann.lecun.com/exdb/mnist/t10k-labels-idx1-ubyte.gz\")[8:]"
   ]
  },
  {
   "cell_type": "code",
   "execution_count": 15,
   "metadata": {},
   "outputs": [
    {
     "data": {
      "text/plain": [
       "(<matplotlib.image.AxesImage at 0x7fee544a2f70>, 0)"
      ]
     },
     "execution_count": 15,
     "metadata": {},
     "output_type": "execute_result"
    },
    {
     "data": {
      "image/png": "[encoded data removed]",
      "text/plain": [
       "<Figure size 432x288 with 1 Axes>"
      ]
     },
     "metadata": {
      "needs_background": "light"
     },
     "output_type": "display_data"
    }
   ],
   "source": [
    "# from pylab import *\n",
    "imshow(X_train[1]), Y_train[1]"
   ]
  },
  {
   "cell_type": "code",
   "execution_count": 18,
   "metadata": {},
   "outputs": [],
   "source": [
    "import torch\n",
    "import torch.nn as nn\n",
    "class NeuralNet(torch.nn.Module):\n",
    "    def __init__(self):\n",
    "        super(NeuralNet, self).__init__()\n",
    "        self.l1 = nn.Linear(784,128, bias=False)\n",
    "        self.act = nn.ReLU()\n",
    "        self.l2 = nn.Linear(128,10, bias=False)\n",
    "    def forward(self, x):\n",
    "        x = self.l1(x)\n",
    "        x = self.act(x)\n",
    "        x = self.l2(x)\n",
    "        return x\n"
   ]
  },
  {
   "cell_type": "code",
   "execution_count": 52,
   "metadata": {},
   "outputs": [
    {
     "name": "stderr",
     "output_type": "stream",
     "text": [
      "loss 0.24 accuracy 0.92: 100%|██████████| 100/100 [00:00<00:00, 276.59it/s]\n"
     ]
    },
    {
     "name": "stdout",
     "output_type": "stream",
     "text": [
      "accuracies_mean:  0.812421875 losses_mean:  2.157695731818676\n",
      "accuracies_std:  0.14053597442442228 losses_std:  4.227278713716295\n",
      "100 100\n"
     ]
    },
    {
     "ename": "NameError",
     "evalue": "name 'x' is not defined",
     "output_type": "error",
     "traceback": [
      "\u001b[0;31m-------------------------------------\u001b[0m",
      "\u001b[0;31mNameError\u001b[0mTraceback (most recent call last)",
      "\u001b[0;32m<ipython-input-52-fca2e7eb41bd>\u001b[0m in \u001b[0;36m<module>\u001b[0;34m\u001b[0m\n\u001b[1;32m     37\u001b[0m \u001b[0max\u001b[0m\u001b[0;34m.\u001b[0m\u001b[0mplot\u001b[0m\u001b[0;34m(\u001b[0m\u001b[0mlosses\u001b[0m\u001b[0;34m,\u001b[0m \u001b[0mlabel\u001b[0m\u001b[0;34m=\u001b[0m\u001b[0;34m\"Losses\"\u001b[0m\u001b[0;34m,\u001b[0m \u001b[0mcolor\u001b[0m\u001b[0;34m=\u001b[0m\u001b[0;34m'r'\u001b[0m\u001b[0;34m)\u001b[0m\u001b[0;34m\u001b[0m\u001b[0;34m\u001b[0m\u001b[0m\n\u001b[1;32m     38\u001b[0m \u001b[0max\u001b[0m\u001b[0;34m.\u001b[0m\u001b[0mplot\u001b[0m\u001b[0;34m(\u001b[0m\u001b[0maccuracies\u001b[0m\u001b[0;34m,\u001b[0m \u001b[0mlabel\u001b[0m\u001b[0;34m=\u001b[0m\u001b[0;34m\"Accuracies\"\u001b[0m\u001b[0;34m,\u001b[0m \u001b[0mcolor\u001b[0m\u001b[0;34m=\u001b[0m\u001b[0;34m'g'\u001b[0m\u001b[0;34m)\u001b[0m\u001b[0;34m\u001b[0m\u001b[0;34m\u001b[0m\u001b[0m\n\u001b[0;32m---> 39\u001b[0;31m ax.errorbar(x,y,\n\u001b[0m\u001b[1;32m     40\u001b[0m             \u001b[0myerr\u001b[0m\u001b[0;34m=\u001b[0m\u001b[0merror\u001b[0m\u001b[0;34m,\u001b[0m\u001b[0;34m\u001b[0m\u001b[0;34m\u001b[0m\u001b[0m\n\u001b[1;32m     41\u001b[0m        fmt='-o')\n",
      "\u001b[0;31mNameError\u001b[0m: name 'x' is not defined"
     ]
    },
    {
     "data": {
      "image/png": "[encoded data removed]",
      "text/plain": [
       "<Figure size 432x288 with 1 Axes>"
      ]
     },
     "metadata": {
      "needs_background": "light"
     },
     "output_type": "display_data"
    }
   ],
   "source": [
    "# Training steps\n",
    "BS = 128\n",
    "model = NeuralNet()\n",
    "loss_function= nn.CrossEntropyLoss()\n",
    "optim = torch.optim.Adam(model.parameters())\n",
    "losses, accuracies = [], []\n",
    "training_steps = 100\n",
    "for i in (t := trange(training_steps)):\n",
    "    samp = np.random.randint(0, X_train.shape[0], size=(BS))\n",
    "    X = torch.tensor(X_train[samp].reshape(-1, 28*28)).float()\n",
    "    Y = torch.tensor(Y_train[samp]).long()\n",
    "    optim.zero_grad()\n",
    "    out = model(X)\n",
    "    cat = torch.argmax(out, dim=1)\n",
    "    accuracy = (cat == Y).float().mean()\n",
    "    loss = loss_function(out, Y)\n",
    "    loss.backward()\n",
    "    optim.step()\n",
    "    loss, accuracy = loss.item(), accuracy.item()\n",
    "    losses.append(loss)\n",
    "    accuracies.append(accuracy)\n",
    "    t.set_description(\"loss %.2f accuracy %.2f\" % (loss, accuracy))\n",
    "\n",
    "\n",
    "# Create graph of Accuracy and Loss\n",
    "accuracies_mean = np.mean(np.array(accuracies))\n",
    "losses_mean = np.mean(np.array(losses))\n",
    "print(\"accuracies_mean: \", accuracies_mean, \"losses_mean: \", losses_mean)\n",
    "\n",
    "accuracies_std = np.std(np.array(accuracies))\n",
    "losses_std = np.std(np.array(losses))\n",
    "print(\"accuracies_std: \", accuracies_std, \"losses_std: \", losses_std)\n",
    "print(len((accuracies)), training_steps)\n",
    "error = [losses_std, accuracies_std]\n",
    "fig, ax = plt.subplots()\n",
    "plt.ylim(-1,2)\n",
    "ax.plot(losses, label=\"Losses\", color='r')\n",
    "ax.plot(accuracies, label=\"Accuracies\", color='g')\n",
    "ax.errorbar(\n",
    "            yerr=error,\n",
    "       fmt='-o')\n",
    "ax.set_xlabel(\"Iterations\")\n",
    "ax.set_ylabel(\"Output\")\n",
    "ax.legend()\n",
    "ax.title(\"MNIST - Machine Learning numbers\")\n",
    "# find the first 5% of iterations that contribute to the highest learning curve -> find the rate of change for those points\n",
    "# Find rate of accuracy change for first 5% of points\n",
    "# Evaluation\n",
    "results = torch.argmax(model(torch.tensor(X_test.reshape((-1, 28*28))).float()), dim=1).numpy()\n",
    "print(\"Percent correct: \", (Y_test == results).mean())\n",
    "# return trained model\n"
   ]
  },
  {
   "cell_type": "code",
   "execution_count": 8,
   "metadata": {},
   "outputs": [
    {
     "name": "stdout",
     "output_type": "stream",
     "text": [
      "[0.140625  0.0703125 0.15625   0.0234375 0.0625    0.109375  0.046875\n",
      " 0.0234375 0.015625 ]\n"
     ]
    }
   ],
   "source": [
    "# Calculating the derivative \n",
    "ri = int(0.1*100)\n",
    "dx = 1\n",
    "y = accuracies[0:ri]\n",
    "\n",
    "dy = np.diff(y)/dx\n",
    "#\n",
    "print(dy)"
   ]
  }
 ],
 "metadata": {
  "kernelspec": {
   "display_name": "Python 3",
   "language": "python",
   "name": "python3"
  },
  "language_info": {
   "codemirror_mode": {
    "name": "ipython",
    "version": 3
   },
   "file_extension": ".py",
   "mimetype": "text/x-python",
   "name": "python",
   "nbconvert_exporter": "python",
   "pygments_lexer": "ipython3",
   "version": "3.8.0"
  }
 },
 "nbformat": 4,
 "nbformat_minor": 4
}

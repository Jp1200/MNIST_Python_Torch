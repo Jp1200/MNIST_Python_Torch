{
 "cells": [
  {
   "cell_type": "code",
   "execution_count": 1,
   "metadata": {},
   "outputs": [
    {
     "data": {
      "text/plain": [
       "[-1, 11]"
      ]
     },
     "execution_count": 1,
     "metadata": {},
     "output_type": "execute_result"
    }
   ],
   "source": [
    "import tqdm \n",
    "array = [3, 5, -4, 8, 11, 1, -1, 6]\n",
    "def twoNumSum(arr, target):\n",
    "#     Every num in array, x there exists a y such that x+y = target => y = target-x\n",
    "    hashMap = {}\n",
    "    for i in arr:\n",
    "        pot = target - i\n",
    "        if pot in hashMap:\n",
    "            return [i, pot]\n",
    "        else:\n",
    "            hashMap[i] = True\n",
    "        \n",
    "        \n",
    "        \n",
    "    print(hashMap)\n",
    "    \n",
    "twoNumSum(array, 10)"
   ]
  },
  {
   "cell_type": "code",
   "execution_count": 2,
   "metadata": {},
   "outputs": [
    {
     "data": {
      "text/plain": [
       "[-1, 11]"
      ]
     },
     "execution_count": 2,
     "metadata": {},
     "output_type": "execute_result"
    }
   ],
   "source": [
    "def twoNumSumFast(arr,target):\n",
    "    arr.sort()\n",
    "    lefti = 0 \n",
    "    righti = len(arr) - 1\n",
    "    \n",
    "    while lefti < righti:\n",
    "        currentSum = arr[lefti] + arr[righti]\n",
    "        if currentSum == target:\n",
    "            return [arr[lefti], arr[righti]]\n",
    "        \n",
    "        elif currentSum > target:\n",
    "            righti -=1\n",
    "        elif currentSum < target:\n",
    "            lefti +=1\n",
    "    return []\n",
    "twoNumSumFast(array, 10)"
   ]
  },
  {
   "cell_type": "code",
   "execution_count": 23,
   "metadata": {},
   "outputs": [],
   "source": [
    "#   Write a function that takes in a Binary Search Tree (BST) and a target integer\n",
    "#   value and returns the closest value to that target value contained in the BST.\n",
    "bst_test = {\n",
    "  \"nodes\": [\n",
    "    {\"id\": \"10\", \"left\": \"5\", \"right\": \"15\", \"value\": 10},\n",
    "    {\"id\": \"15\", \"left\": \"13\", \"right\": \"22\", \"value\": 15},\n",
    "    {\"id\": \"22\", \"left\": \"null\", \"right\": \"null\", \"value\": 22},\n",
    "    {\"id\": \"13\", \"left\": \"null\", \"right\": \"14\", \"value\": 13},\n",
    "    {\"id\": \"14\", \"left\": \"null\", \"right\": \"null\", \"value\": 14},\n",
    "    {\"id\": \"5\", \"left\": \"2\", \"right\": \"5-2\", \"value\": 5},\n",
    "    {\"id\": \"5-2\", \"left\": \"null\", \"right\": \"null\", \"value\": 5},\n",
    "    {\"id\": \"2\", \"left\": \"1\", \"right\": \"null\", \"value\": 2},\n",
    "    {\"id\": \"1\", \"left\": \"null\", \"right\": \"null\", \"value\": 1}\n",
    "  ],\n",
    "  \"root\": \"10\"\n",
    "}\n",
    "\n",
    "\n",
    "class BST:\n",
    "    def __init__(self, value):\n",
    "        self.value = value\n",
    "        self.left = None\n",
    "        self.right = None\n",
    "def findClosestValueInBst(tree, target):\n",
    "    return findClosest(tree, target, tree.value)\n",
    "\n",
    "def findClosest(tree, target, closest):\n",
    "    if tree is None: \n",
    "        return closest\n",
    "    if abs(target- closest) > abs(target - tree.value):\n",
    "        closest = tree.value\n",
    "    if tree.value > closest:\n",
    "        return findClosest(tree.left, target, closest)\n",
    "    elif tree.value < closest:\n",
    "        return findClosest(tree.right, target, closest)\n",
    "    else:\n",
    "        return closest\n",
    "    \n",
    "\n"
   ]
  },
  {
   "cell_type": "code",
   "execution_count": 50,
   "metadata": {},
   "outputs": [
    {
     "name": "stdout",
     "output_type": "stream",
     "text": [
      "finished\n"
     ]
    }
   ],
   "source": [
    "# Write a function that takes in a non-empty string and that returns a boolean\n",
    "# representing whether the string is a palindrome\n",
    "\n",
    "def fetch(url):\n",
    "    import requests, json\n",
    "    dat = requests.get(url).text\n",
    "    return dat\n",
    "    \n",
    "string_test = 'abcdcba'\n",
    "\n",
    "def is_palindrome(string):\n",
    "    string.lower()\n",
    "    lI = 0\n",
    "    rI = len(string) - 1\n",
    "    while lI < rI:\n",
    "        if string[lI] != string[rI]:\n",
    "            return False\n",
    "        lI += 1\n",
    "        rI -= 1\n",
    "    return True\n",
    "        \n",
    "\n",
    "words = fetch(\"https://raw.githubusercontent.com/dwyl/english-words/master/words.txt\").split()\n",
    "print(\"finished\")"
   ]
  },
  {
   "cell_type": "code",
   "execution_count": 52,
   "metadata": {},
   "outputs": [
    {
     "name": "stderr",
     "output_type": "stream",
     "text": [
      "100%|██████████| 466550/466550 [00:00<00:00, 1268146.35it/s]\n"
     ]
    }
   ],
   "source": [
    "from tqdm import trange\n",
    "palindromes = []\n",
    "\n",
    "for i in trange(len(words)):\n",
    "    if is_palindrome(words[i]):\n",
    "        palindromes.append(words[i])"
   ]
  },
  {
   "cell_type": "code",
   "execution_count": 53,
   "metadata": {},
   "outputs": [
    {
     "name": "stdout",
     "output_type": "stream",
     "text": [
      "319 ['2', 'a', 'AA', 'AAA', 'AAAA', 'AAAAAA', 'ABA', 'acca', 'ADA', 'addda', 'AEA', 'AFA', 'affa', 'aga', 'AHA', 'AIA', 'AJA', 'AKA', 'ALA', 'alula', 'AMA', 'ana', 'AOA', 'APA', 'ARA', 'ASA', 'ATA', 'AUA', 'awa', 'B', 'B/B', 'BB', 'BBB', 'boob', 'C', 'CAC', 'CAMAC', 'CBC', 'CC', 'CCC', 'CDC', 'CEC', 'CFC', 'CIC', 'cyc', 'civic', 'CMC', 'CNC', 'COC', 'CPC', 'CRC', 'CSC', 'CTC', 'CTTC', 'CWC', 'D', 'DAD', 'DCD', 'DD', 'DDD', 'deed', 'deedeed', 'degged', 'deified', 'deked', 'deled', 'denned', 'dewed', 'DFD', 'DID', 'divid', 'DMD', 'DOD', 'DRD', 'DSD', 'dtd', 'E', 'ecce', 'ECE', 'ee', 'EEE', 'eye', 'eke', 'ELLE', 'eme', 'ene', 'EOE', 'ERE', 'ese', 'esse', 'ette', 'F', 'FF', 'FSF', 'G', 'GBG', 'GG', 'gig', 'goog', 'H', 'hagigah', 'hah', 'halalah', 'hallah', 'heh', 'HH', 'HIH', 'HRH', 'HSH', 'huh', 'i', 'y', '-i-', 'yay', 'yaray', 'ICI', 'IDI', 'ihi', 'ii', 'YY', 'iii', 'imi', 'immi', 'yoy', 'IPI', 'ISI', 'ISSI', 'J', 'JJ', 'K', 'kaiak', 'kayak', 'kakkak', 'keek', 'kelek', 'kinnikinnik', 'KKK', 'kook', 'L', 'LAL', 'LBL', 'LCCL', 'LCL', 'LDL', 'lemel', 'level', 'LL', 'LPL', 'LTL', 'LWL', 'm', 'maam', \"ma'am\", 'madam', 'malam', 'mallam', 'marram', 'mem', 'mesem', 'MFM', 'MGM', 'MIM', 'mym', 'minim', 'MM', 'MMM', 'mmmm', 'mom', 'MRSRM', 'MSM', 'MTM', 'mum', 'murdrum', 'MWM', 'n', 'neven', 'non', 'noon', 'NPN', 'NTN', 'o', '-o-', 'OAO', 'OBO', 'OCO', 'OEO', 'OGO', 'oho', 'OO', 'o-o', 'oooo', 'OSO', 'ottetto', 'oxo', 'P', 'PAP', 'PDP', 'peep', 'peeweep', 'PEP', 'PIP', 'pip-pip', 'PLP', 'PNP', 'POP', 'PP', 'PPP', 'prp', 'PSP', 'PTP', 'pullup', 'PUP', 'PVP', 'Q', 'R', 'RADAR', 'RAR', 'redder', 'refer', 'reifier', 'repaper', 'retter', 'rever', 'reviver', 'RMR', 'RNR', 'rotator', 'rotor', 'RR', 'RSFSR', 'RSR', 'RTR', 's', 'sagas', 'SAS', 'SBS', 'SCCS', 'SCS', 'SDS', 'sees', 'selles', 'sememes', 'semes', 'SES', 'sexes', 'shahs', 'siris', 'sis', 'SLS', 'SMS', 'solos', 'sooloos', 'SOS', 'SPS', 'SRS', 'SS', \"s's\", 'SSS', 'SSTTSS', 'stats', 'STS', 'succus', 'SVS', 'SVVS', 'SWS', 'SXS', 'T', 'TAT', 'tat-tat', 'tat-tat-tat', 'TCT', 'tebbet', 'teet', 'tenet', 'terret', 'tet', 'TFT', 'tgt', 'tibbit', 'tipit', 'tirrit', 'tyt', 'tkt', 'TNT', 'toot', 'torot', 'tot', 'TPT', 'trt', 'TSST', 'TST', 'TT', 'tut-tut', 'TWT', 'txt', 'U', 'ululu', 'umu', 'UPU', 'usu', 'UU', 'V', 'VAV', 'VV', 'W', 'waw', 'waw-waw', 'WNW', 'WOW', 'wow-wow', 'WSW', 'WW', 'X', 'xix', 'xx', 'xxx', 'Z', 'ZZ', 'ZZZ']\n"
     ]
    }
   ],
   "source": [
    "print(len(palindromes), palindromes)"
   ]
  }
 ],
 "metadata": {
  "kernelspec": {
   "display_name": "Python 3",
   "language": "python",
   "name": "python3"
  },
  "language_info": {
   "codemirror_mode": {
    "name": "ipython",
    "version": 3
   },
   "file_extension": ".py",
   "mimetype": "text/x-python",
   "name": "python",
   "nbconvert_exporter": "python",
   "pygments_lexer": "ipython3",
   "version": "3.8.0"
  }
 },
 "nbformat": 4,
 "nbformat_minor": 4
}
